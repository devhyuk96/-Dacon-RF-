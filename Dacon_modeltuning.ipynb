{
  "cells": [
    {
      "cell_type": "markdown",
      "metadata": {
        "id": "H1kHpKFYeAwK"
      },
      "source": [
        "# 모델 튜닝 챌린지 : RF 하이퍼파라미터 최적화 경진대회"
      ]
    },
    {
      "cell_type": "code",
      "execution_count": 1,
      "metadata": {
        "id": "ciWKBoued-6P"
      },
      "outputs": [],
      "source": [
        "import pandas as pd"
      ]
    },
    {
      "cell_type": "code",
      "execution_count": null,
      "metadata": {
        "id": "oDQNsmOgpnwW"
      },
      "outputs": [],
      "source": [
        "submit = pd.read_csv('./sample_submission.csv')"
      ]
    },
    {
      "cell_type": "code",
      "execution_count": null,
      "metadata": {
        "id": "E2EOVJ5Reynh"
      },
      "outputs": [],
      "source": [
        "train = pd.read_csv(\"./train.csv\")"
      ]
    },
    {
      "cell_type": "markdown",
      "metadata": {
        "id": "kQ0fWPGXnxeL"
      },
      "source": [
        "## train"
      ]
    },
    {
      "cell_type": "code",
      "execution_count": null,
      "metadata": {
        "id": "xJV_aUsPtZwM"
      },
      "outputs": [],
      "source": [
        "pip install optuna"
      ]
    },
    {
      "cell_type": "code",
      "execution_count": null,
      "metadata": {
        "colab": {
          "base_uri": "https://localhost:8080/",
          "height": 364
        },
        "id": "oi9zRiFRn7tv",
        "outputId": "5d4a20be-254a-48ce-cf8e-f1fbec6bf7e2"
      },
      "outputs": [],
      "source": [
        "import pandas as pd\n",
        "from sklearn.model_selection import GridSearchCV\n",
        "from sklearn.ensemble import RandomForestClassifier\n",
        "from sklearn.model_selection import cross_val_score\n",
        "from sklearn.model_selection import StratifiedKFold, KFold\n",
        "import optuna"
      ]
    },
    {
      "cell_type": "code",
      "execution_count": null,
      "metadata": {
        "id": "0ZEcy14qoFdU"
      },
      "outputs": [],
      "source": [
        "# person_id 컬럼 제거\n",
        "X_train = train.drop(['person_id', 'login'], axis=1)\n",
        "y_train = train['login']"
      ]
    },
    {
      "cell_type": "code",
      "execution_count": null,
      "metadata": {
        "id": "S6DhuFm_tl3K"
      },
      "outputs": [],
      "source": [
        "def objective(trial):\n",
        "    param = {\n",
        "        # 기본값: 10\n",
        "        # 범위: 10 ~ 1000 사이의 양의 정수. 일반적으로 값이 클수록 모델 성능이 좋아지지만, 계산 비용과 시간도 증가합니다.\n",
        "        'n_estimators': trial.suggest_int('n_estimators', 10, 1000),\n",
        "\n",
        "        # 기본값: 'gini'\n",
        "        # 옵션: 'gini', 'entropy'. 'gini'는 진니 불순도를, 'entropy'는 정보 이득을 기준으로 합니다.\n",
        "        'criterion': 'gini',\n",
        "\n",
        "        # 기본값: None\n",
        "        # 범위: None 또는 양의 정수. None으로 설정하면 노드가 모든 리프가 순수해질 때까지 확장됩니다. 양의 정수를 설정하면 트리의 최대 깊이를 제한합니다.\n",
        "        'max_depth' : trial.suggest_int('max_depth', 1, 100),\n",
        "\n",
        "        # 기본값: 2\n",
        "        # 범위: 2 이상의 정수 또는 0과 1 사이의 실수 (비율을 나타냄, (0, 1] ). 내부 노드를 분할하기 위해 필요한 최소 샘플 수를 지정합니다.\n",
        "        # 'min_samples_split': trial.suggest_float('min_samples_split', 0.0, 1.0),  # 1보다 큰 값으로 설정\n",
        "\n",
        "        # 기본값: 1\n",
        "        # 범위: 1 이상의 정수 또는 0과 0.5 사이의 실수 (비율을 나타냄, (0, 0.5] ). 리프 노드가 가져야 하는 최소 샘플 수를 지정합니다.\n",
        "        # 'min_samples_leaf': trial.suggest_float('min_samples_leaf', 0.0, 0.5),\n",
        "        'min_samples_split': trial.suggest_int('min_samples_split', 2, 100),  # 1보다 큰 값으로 설정\n",
        "        'min_samples_leaf': trial.suggest_int('min_samples_leaf', 1, 100),\n",
        "\n",
        "        # 기본값: 0.0\n",
        "        # 범위: 0.0에서 0.5 사이의 실수. 리프 노드에 있어야 하는 샘플의 최소 가중치 비율을 지정합니다.\n",
        "        'min_weight_fraction_leaf':  trial.suggest_float('min_weight_fraction_leaf', 0.0, 0.5),\n",
        "\n",
        "        # 기본값: 'auto'\n",
        "        # 옵션: 'auto', 'sqrt', 'log2', None 또는 양의 정수/실수.\n",
        "        # 최적의 분할을 찾기 위해 고려할 특성의 수 또는 비율을 지정합니다.\n",
        "        # 'auto'는 모든 특성을 사용함을 의미하며,\n",
        "        # 'sqrt'와 'log2'는 각각 특성의 제곱근과 로그2를 사용합니다.\n",
        "        # None은 'auto'와 동일하게 모든 특성을 의미합니다.\n",
        "        # 'max_features':'log2',\n",
        "        'max_features': 'sqrt',\n",
        "\n",
        "        # 기본값: None\n",
        "        # 범위: None 또는 양의 정수. 리프 노드의 최대 수를 제한합니다. None은 무제한을 의미합니다.\n",
        "        'max_leaf_nodes':  trial.suggest_int('max_leaf_nodes', 1, 100),\n",
        "\n",
        "        # 기본값: 0.0\n",
        "        # 범위: 0.0 이상의 실수. 노드를 분할할 때 감소해야 하는 불순도의 최소량을 지정합니다.\n",
        "        'min_impurity_decrease': trial.suggest_float('min_impurity_decrease', 0.0, 1.0),\n",
        "\n",
        "        # 기본값: True\n",
        "        # 옵션: True, False. True는 부트스트랩 샘플을 사용하여 개별 트리를 학습시킵니다.\n",
        "        # False는 전체 데이터셋을 사용하여 각 트리를 학습시킵니다.\n",
        "        'bootstrap': True,\n",
        "        'n_jobs': -1,\n",
        "        'random_state': 42\n",
        "    }\n",
        "\n",
        "    model = RandomForestClassifier(**param)\n",
        "\n",
        "    cv = cross_val_score(model, X_train, y_train, scoring='roc_auc', cv=StratifiedKFold(n_splits=3)).mean()\n",
        "\n",
        "    return cv"
      ]
    },
    {
      "cell_type": "code",
      "execution_count": null,
      "metadata": {
        "id": "kuCEuO0P-Cn9"
      },
      "outputs": [],
      "source": [
        "def objective(trial):\n",
        "    param = {\n",
        "        'n_estimators':  trial.suggest_int('n_estimators', 10, 1000),\n",
        "        'criterion': trial.suggest_categorical('criterion', ['gini', 'entropy']),\n",
        "        'max_depth':trial.suggest_int('max_depth', 1, 50),\n",
        "        'min_samples_split': trial.suggest_int('min_samples_split', 2, 100),\n",
        "        'min_samples_leaf': trial.suggest_int('min_samples_leaf', 1, 100),\n",
        "        'min_weight_fraction_leaf': trial.suggest_float('min_weight_fraction_leaf', 0.0, 0.5),\n",
        "        'max_features': trial.suggest_categorical('max_features', ['auto', 'sqrt', 'log2', None]),\n",
        "        'max_leaf_nodes': trial.suggest_categorical('max_leaf_nodes', [None, 10, 20, 30, 40, 50, 60, 70, 80, 90, 100]),\n",
        "        'min_impurity_decrease':trial.suggest_float('min_impurity_decrease', 0.0, 1.0),\n",
        "        'bootstrap': trial.suggest_categorical('bootstrap', [True, False]),\n",
        "    }\n",
        "\n",
        "    model = RandomForestClassifier(**param)\n",
        "    cv = cross_val_score(model, X_train, y_train, scoring='roc_auc', cv=StratifiedKFold(n_splits=3)).mean()\n",
        "\n",
        "    return cv"
      ]
    },
    {
      "cell_type": "code",
      "execution_count": null,
      "metadata": {
        "id": "1M_kkTDdu1Ol"
      },
      "outputs": [],
      "source": [
        "%%time\n",
        "study = optuna.create_study(direction='maximize')\n",
        "study.optimize(objective, n_trials=10000)"
      ]
    },
    {
      "cell_type": "code",
      "execution_count": null,
      "metadata": {
        "id": "Xlrdtfipu3Ya"
      },
      "outputs": [],
      "source": [
        "# optuna가 시도했던 모든 실험 관련 데이터\n",
        "study.trials_dataframe()"
      ]
    },
    {
      "cell_type": "code",
      "execution_count": null,
      "metadata": {
        "id": "ldlw1dJHu5E1"
      },
      "outputs": [],
      "source": [
        "print('Best trial: score {}, \\nparams {}'.format(study.best_trial.value,study.best_trial.params))"
      ]
    },
    {
      "cell_type": "code",
      "execution_count": null,
      "metadata": {
        "id": "V4zR5_Oru5Uu"
      },
      "outputs": [],
      "source": [
        "# Hyperparameter Importances를 통해서 parameter를 고정시켜라.\n",
        "# 그리고 나머지 것들을 진행시켜라.\n",
        "optuna.visualization.plot_param_importances(study)"
      ]
    },
    {
      "cell_type": "code",
      "execution_count": null,
      "metadata": {
        "id": "-MNZPl0Vu6cN"
      },
      "outputs": [],
      "source": [
        "optuna.visualization.plot_optimization_history(study)"
      ]
    },
    {
      "cell_type": "code",
      "execution_count": null,
      "metadata": {
        "id": "78B6fo77vIL3"
      },
      "outputs": [],
      "source": [
        "best_params = study.best_params"
      ]
    },
    {
      "cell_type": "markdown",
      "metadata": {
        "id": "Dg5JeulqtkAO"
      },
      "source": [
        "### GridSearchCV"
      ]
    },
    {
      "cell_type": "code",
      "execution_count": null,
      "metadata": {
        "id": "b6EJca7GovWX"
      },
      "outputs": [],
      "source": [
        "# GridSearchCV를 위한 하이퍼파라미터 설정\n",
        "param_search_space = {\n",
        "    'n_estimators': [10, 50, 100,150,200,250,300,350,400,450,500,550,600,650,700,750,800,850,900,950,1000],\n",
        "    'critertion': ['gini','entropy'],\n",
        "    'max_depth': [None, 1,5,10,15,20,25,30,35,40,45,50],\n",
        "    'min_samples_split' : [2,4,6,8,10,12,14,16,18,20,22,24,26,28,30],\n",
        "    'min_samples_leaf': [1, 5,10,15,20,25,30,35,40,45,50],\n",
        "    'min_weight_fraction_leaf': [0.0, 0.1,0.15,0.2,0.25,0.3,0.35,0.4,0.45,0.5],\n",
        "    'max_features':['auto','sqrt','log2',None],\n",
        "    'max_leaf_nodes':[None,10,20,30,40,50,60,70,80,90,100],\n",
        "    'min_impurity_decrease':[0.0, 0.1,0.15,0.2,0.25,0.3,0.35,0.4,0.45,0.5],\n",
        "    'bootstrap': [True,False]\n",
        "}\n",
        "\n",
        "# RandomForestClassifier 객체 생성\n",
        "rf = RandomForestClassifier(random_state=42)\n",
        "\n",
        "# GridSearchCV 객체 생성\n",
        "grid_search = GridSearchCV(estimator=rf, param_grid=param_search_space, cv=3, n_jobs=-1, verbose=2, scoring='roc_auc')\n",
        "\n",
        "# GridSearchCV를 사용한 학습\n",
        "grid_search.fit(X_train, y_train)\n",
        "\n",
        "# 최적의 파라미터와 최고 점수 출력\n",
        "best_params = grid_search.best_params_\n",
        "best_score = grid_search.best_score_\n",
        "\n",
        "best_params, best_score"
      ]
    },
    {
      "cell_type": "markdown",
      "metadata": {
        "id": "DQG9viZcozwA"
      },
      "source": [
        "## submission"
      ]
    },
    {
      "cell_type": "code",
      "execution_count": null,
      "metadata": {
        "id": "fNlh7lR-o0uT"
      },
      "outputs": [],
      "source": [
        "# 찾은 최적의 파라미터들을 제출 양식에 맞게 제출\n",
        "for param, value in best_params.items():\n",
        "    if param in submit.columns:\n",
        "        submit[param] = value\n",
        "\n",
        "submit.to_csv('./baseline_submit.csv', index=False)"
      ]
    }
  ],
  "metadata": {
    "accelerator": "GPU",
    "colab": {
      "gpuType": "T4",
      "provenance": []
    },
    "kernelspec": {
      "display_name": "Python 3",
      "name": "python3"
    },
    "language_info": {
      "name": "python"
    }
  },
  "nbformat": 4,
  "nbformat_minor": 0
}
